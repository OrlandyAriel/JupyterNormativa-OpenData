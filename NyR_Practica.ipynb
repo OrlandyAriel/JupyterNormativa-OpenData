{
 "cells": [
  {
   "cell_type": "markdown",
   "metadata": {},
   "source": [
    "# Práctica final de Normativa y Regulación\n",
    "\n",
    "El desarrollo consiste en utilizar dos dataset o conjunto, para hacer uso de datos abiertos(Open Data) de datos del catalogo de datos [Open Data Canarias](http://www.opendatacanarias.es/) y [TENERIFEDATA](http://www.tenerifedata.es) en concreto el conjunto de datos [alojamientos turisticos de tenerife](http://www.opendatacanarias.es/datos/dataset/3f637e7d-d875-48c8-9337-6f16f767c655/resource/a6864f3e-acda-40fd-92a1-ae292e713399/download/alojamientos.csv) y el conjunto de datos [paradas de guaguas de tenerife](http://www.tenerifedata.es/dataset/transporte/resource/8e0664aa-e67d-47e0-adec-54b37fd21e38)\n",
    "*****\n",
    "\n",
    "**Caracteristicas de estos conjuntos**\n",
    "* **Paradas de guaguas de tenerife:**\n",
    "    * **Resumen**: Recursos georeferenciados relacionados con la movilidad: aparcamientos, paradas de guaguas,...\n",
    "    * **Última actualización:** desconocido\n",
    "    * **Fecha de creación:** 2 Años\n",
    "    * **Formatos:** JSON,CSV\n",
    "    * **Licencia:** [Creative Commons CCZero](http://opendefinition.org/licenses/cc-zero/)\n",
    "    * **Autor:** desconocido\n",
    "    * **Mantenedor:** desconocido\n",
    "    * **Versión:** desconocido\n",
    "    * ** Cobertura Geográfica:** Tenerife\n",
    "    * **Idioma:** español\n",
    "* **Alojamientos turistico:**\n",
    "    * **Resumen:** Contiene toda la información acerca de los alojamientos registrados por Turismo de Tenerife. La información que aporta este dataset es recogida desde el punto de vista de interés para el turista por lo que puede haber algún que no esté correcto. Los recursos se encuentran en los formatos: XML, JSON, CSV.<br>\n",
    "    **NOTA:** Los ficheros en RDF se han realizado en colaboración con el grupo TARO de investigación de la Universidad de La Laguna.\n",
    "    * **Última actualización:** Julio 3, 2015\n",
    "    * ** Fecha de creación:** Junio 18,2014\n",
    "    * **Formatos:** CSV, JSON, XML, RDF\n",
    "    * **Licencia:** [Open Data Commons Attribution License](http://opendefinition.org/licenses/odc-by/)\n",
    "    * **Autor:** SPET, Turismo de Tenerife S.A\n",
    "    * **Mantenedor:** SPET, Turismo de Tenerife S.A\n",
    "    * **Versión:** 1.1\n",
    "    * ** Cobertura Geográfica:** Tenerife\n",
    "    * **Idioma:** español  \n",
    "    "
   ]
  },
  {
   "cell_type": "markdown",
   "metadata": {},
   "source": [
    "## Aplicación\n",
    "* ** Autor:** Orlandy Ariel Sánchez A.\n",
    "* ** Asignatura:** Normativa y Regulación.\n",
    "* ** Lenguaje: ** Python\n",
    "* **Licencia:** [Creative Commons Reconocimiento 4.0 Internacional](https://creativecommons.org/licenses/by/4.0/)\n",
    "\n",
    "Para el desarrollo de la aplicación se hará uso de datos abiertos(Open Data) utilizando la herramienta [Jupyter Notebook](http://jupyter.org/).\n",
    "Se hará uso de las siguientes librerias:\n",
    "* Para el texto se utilizará Markdown\n",
    "* Para el código Python\n",
    "* Se utilizarán las librerias:\n",
    "    * [IPython](https://ipython.org/)\n",
    "    * [gpxpy](https://pypi.python.org/pypi/gpxpy/0.7.0)\n",
    "    * [Pandas](http://pandas.pydata.org/)\n",
    "    * [Folium](https://folium.readthedocs.io/en/latest/)"
   ]
  },
  {
   "cell_type": "markdown",
   "metadata": {},
   "source": [
    "### Paradas de guaguas de Tenerife\n"
   ]
  },
  {
   "cell_type": "code",
   "execution_count": 2,
   "metadata": {
    "collapsed": true
   },
   "outputs": [],
   "source": [
    "from IPython.display import HTML\n",
    "import gpxpy.geo\n",
    "import pandas as pd\n",
    "import folium"
   ]
  }
 ],
 "metadata": {
  "anaconda-cloud": {},
  "kernelspec": {
   "display_name": "Python [conda root]",
   "language": "python",
   "name": "conda-root-py"
  },
  "language_info": {
   "codemirror_mode": {
    "name": "ipython",
    "version": 3
   },
   "file_extension": ".py",
   "mimetype": "text/x-python",
   "name": "python",
   "nbconvert_exporter": "python",
   "pygments_lexer": "ipython3",
   "version": "3.5.2"
  }
 },
 "nbformat": 4,
 "nbformat_minor": 1
}
