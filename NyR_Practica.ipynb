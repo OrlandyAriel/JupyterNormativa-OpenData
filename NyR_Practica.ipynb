{
 "cells": [
  {
   "cell_type": "markdown",
   "metadata": {},
   "source": [
    "# Práctica final de Normativa y Regulación\n",
    "\n",
    "El desarrollo consiste en utilizar dos dataset o conjunto, para hacer uso de datos abiertos(Open Data) de datos del catalogo de datos [Open Data Canarias](http://www.opendatacanarias.es/) y [TENERIFEDATA](http://www.tenerifedata.es) en concreto el conjunto de datos [alojamientos turisticos de tenerife](http://www.opendatacanarias.es/datos/dataset/3f637e7d-d875-48c8-9337-6f16f767c655/resource/a6864f3e-acda-40fd-92a1-ae292e713399/download/alojamientos.csv) y el conjunto de datos [paradas de guaguas de tenerife](http://www.tenerifedata.es/dataset/transporte/resource/8e0664aa-e67d-47e0-adec-54b37fd21e38)\n",
    "*****\n",
    "\n",
    "**Caracteristicas de estos conjuntos**\n",
    "* **Paradas de guaguas de tenerife:**\n",
    "    * **Resumen**: Recursos georeferenciados relacionados con la movilidad: aparcamientos, paradas de guaguas,...\n",
    "    * **Última actualización:** desconocido\n",
    "    * **Fecha de creación:** 2 Años\n",
    "    * **Formatos:** JSON,CSV\n",
    "    * **Licencia:** [Creative Commons CCZero](http://opendefinition.org/licenses/cc-zero/)\n",
    "    * **Autor:** desconocido\n",
    "    * **Mantenedor:** desconocido\n",
    "    * **Versión:** desconocido\n",
    "    * ** Cobertura Geográfica:** Tenerife\n",
    "    * **Idioma:** español\n",
    "* **Alojamientos turistico:**\n",
    "    * **Resumen:** Contiene toda la información acerca de los alojamientos registrados por Turismo de Tenerife. La información que aporta este dataset es recogida desde el punto de vista de interés para el turista por lo que puede haber algún que no esté correcto. Los recursos se encuentran en los formatos: XML, JSON, CSV.<br>\n",
    "    **NOTA:** Los ficheros en RDF se han realizado en colaboración con el grupo TARO de investigación de la Universidad de La Laguna.\n",
    "    * **Última actualización:** Julio 3, 2015\n",
    "    * ** Fecha de creación:** Junio 18,2014\n",
    "    * **Formatos:** CSV, JSON, XML, RDF\n",
    "    * **Licencia:** [Open Data Commons Attribution License](http://opendefinition.org/licenses/odc-by/)\n",
    "    * **Autor:** SPET, Turismo de Tenerife S.A\n",
    "    * **Mantenedor:** SPET, Turismo de Tenerife S.A\n",
    "    * **Versión:** 1.1\n",
    "    * ** Cobertura Geográfica:** Tenerife\n",
    "    * **Idioma:** español  \n",
    "    "
   ]
  },
  {
   "cell_type": "markdown",
   "metadata": {},
   "source": [
    "## Aplicación\n",
    "* ** Autor:** Orlandy Ariel Sánchez A.\n",
    "* ** Asignatura:** Normativa y Regulación.\n",
    "* ** Lenguaje: ** Python\n",
    "* **Licencia:** [Creative Commons Reconocimiento 4.0 Internacional](https://creativecommons.org/licenses/by/4.0/)\n",
    "\n",
    "Para el desarrollo de la aplicación se hará uso de datos abiertos(Open Data) utilizando la herramienta [Jupyter Notebook](http://jupyter.org/).\n",
    "Se hará uso de las siguientes librerias:\n",
    "* Para el texto se utilizará Markdown\n",
    "* Para el código Python\n",
    "* Se utilizarán las librerias:\n",
    "    * [IPython](https://ipython.org/)\n",
    "    * [gpxpy](https://pypi.python.org/pypi/gpxpy/0.7.0)\n",
    "    * [Pandas](http://pandas.pydata.org/)\n",
    "    * [Folium](https://folium.readthedocs.io/en/latest/)\n",
    "    \n",
    "**NOTA:** TENER EN CUENTA DE QUE LAS LIBRERÍAS TIENEN QUE ESTAR INSTALADAS EN LA EN LA MÁQUINA PARA PODER EJECUTARLAS"
   ]
  },
  {
   "cell_type": "markdown",
   "metadata": {},
   "source": [
    "### Paradas de guaguas de Tenerife\n"
   ]
  },
  {
   "cell_type": "code",
   "execution_count": 7,
   "metadata": {
    "collapsed": true,
    "scrolled": true
   },
   "outputs": [],
   "source": [
    "from IPython.display import HTML\n",
    "import gpxpy.geo\n",
    "import pandas as pd\n",
    "import folium"
   ]
  },
  {
   "cell_type": "code",
   "execution_count": 6,
   "metadata": {
    "collapsed": true,
    "scrolled": true
   },
   "outputs": [],
   "source": [
    "#Carga de datos paradas\n",
    "datosParadas = pd.read_csv('./paradas.csv')\n",
    "mapaParadas = folium.Map(location=[28.45, -16.2333], tiles='Stamen Terrain', zoom_start=10)\n",
    "\n",
    "#Carga de datos alojamietnos.\n",
    "datosAlojamientos = pd.read_csv('alojamientos.csv')\n",
    "mapaAlojamientos = folium.Map(location=[28.45, -16.2333], tiles='Stamen Terrain', zoom_start=10)"
   ]
  },
  {
   "cell_type": "code",
   "execution_count": 9,
   "metadata": {
    "collapsed": true,
    "scrolled": true
   },
   "outputs": [],
   "source": [
    "#Verificación que los datos sean de tipo float\n",
    "def isfloat(value):\n",
    "      try:\n",
    "        float(value)\n",
    "        return True\n",
    "      except ValueError:\n",
    "        return False"
   ]
  },
  {
   "cell_type": "markdown",
   "metadata": {},
   "source": [
    "** Método para calcular la distancia entre dos puntos, haciendo uso de la librería gpxpy.geo que hace uso de la [Fórmula del haversine](https://es.wikipedia.org/wiki/F%C3%B3rmula_del_haversine)**"
   ]
  },
  {
   "cell_type": "code",
   "execution_count": 64,
   "metadata": {
    "collapsed": false,
    "scrolled": true
   },
   "outputs": [],
   "source": [
    "arrayCoordenadas1 = []\n",
    "arrayCoordenadas2 = []\n",
    "def distancia(lat1, lng1, lat2, lng2):\n",
    "    dist = gpxpy.geo.haversine_distance(lat1, lng1, lat2, lng2)\n",
    "    if(dist < 20): # menor de 50 Km\n",
    "        #print([lat1,lng1])\n",
    "        #rint(\"coor\")\n",
    "        #rint([lat2,lng2])\n",
    "        arrayCoordenadas1.append([lat1,lng1])\n",
    "        arrayCoordenadas2.append([lat2,lng2])"
   ]
  },
  {
   "cell_type": "code",
   "execution_count": 65,
   "metadata": {
    "collapsed": false,
    "scrolled": true
   },
   "outputs": [],
   "source": [
    "#extracción de los datos de las coordenadas, filtrados a la zona metropolitana\n",
    "arrayAloj = []\n",
    "for eq in datosAlojamientos.iterrows():\n",
    "    if(eq[1]['ows_Zona'] == 'Metropolitana'):\n",
    "        coordenadas = eq[1]['ows_Georeferencia']\n",
    "        if(not isfloat(coordenadas)):\n",
    "            if(not coordenadas == \"\"):\n",
    "                line = coordenadas.strip(\"(\").strip(\")\").strip(\" \")\n",
    "                line = line.replace(\" \", \"\").split(\",\")\n",
    "                arrayAloj.append(line)\n",
    "arrayAlojamientos = []\n",
    "for coordenadas in arrayAloj:\n",
    "    x = float(coordenadas[0])\n",
    "    y = float(coordenadas[1])\n",
    "    arrayAlojamientos.append([x,y])"
   ]
  },
  {
   "cell_type": "code",
   "execution_count": 66,
   "metadata": {
    "collapsed": false,
    "scrolled": true
   },
   "outputs": [],
   "source": [
    "arrayParadas = []\n",
    "for eq in datosParadas.iterrows():\n",
    "    if(isfloat(eq[1][1])):\n",
    "        x= float(eq[1][1])\n",
    "    if(isfloat(eq[1][0])):\n",
    "        y=float(eq[1][0])\n",
    "    #print ([x,y])\n",
    "    arrayParadas.append([x,y])"
   ]
  },
  {
   "cell_type": "code",
   "execution_count": 67,
   "metadata": {
    "collapsed": false,
    "scrolled": true
   },
   "outputs": [],
   "source": [
    "for i in range(len(arrayParadas)):\n",
    "    for j in range(len(arrayAlojamientos)):\n",
    "        distancia(arrayParadas[i][0],arrayParadas[i][1],arrayAlojamientos[j][0],arrayAlojamientos[j][1])"
   ]
  },
  {
   "cell_type": "code",
   "execution_count": 82,
   "metadata": {
    "collapsed": false,
    "scrolled": true
   },
   "outputs": [],
   "source": [
    "mapaDistancias = folium.Map(location=[28.45, -16.2333], tiles='Stamen Terrain', zoom_start=11)\n",
    "for i in range(len(arrayCoordenadas1)):\n",
    "    marker1 = folium.Marker(location=[arrayCoordenadas1[i][0],arrayCoordenadas1[i][1]],\n",
    "                            icon=folium.Icon(color='red'))\n",
    "    mapaDistancias.add_children(marker1)\n",
    "for i in range(len(arrayCoordenadas1)):\n",
    "    marker2 = folium.Marker(location=[arrayCoordenadas2[i][0],arrayCoordenadas2[i][1]],\n",
    "                            icon=folium.Icon(color='blue'))\n",
    "    mapaDistancias.add_children(marker2)\n",
    "mapaDistancias.save('distancia.html')\n"
   ]
  },
  {
   "cell_type": "code",
   "execution_count": 139,
   "metadata": {
    "collapsed": false,
    "scrolled": true
   },
   "outputs": [
    {
     "data": {
      "text/html": [
       "<iframe src=distancia.html width=100% height=350></iframe>"
      ],
      "text/plain": [
       "<IPython.core.display.HTML object>"
      ]
     },
     "execution_count": 139,
     "metadata": {},
     "output_type": "execute_result"
    }
   ],
   "source": [
    "HTML('<iframe src=distancia.html width=100% height=350></iframe>')"
   ]
  },
  {
   "cell_type": "markdown",
   "metadata": {},
   "source": [
    "## Referencia visual de donde están las paradas y los alojamientos."
   ]
  },
  {
   "cell_type": "code",
   "execution_count": null,
   "metadata": {
    "collapsed": false,
    "scrolled": true
   },
   "outputs": [],
   "source": [
    "icon_url = 'iconoAlojamiento.png'\n",
    "icon_size=(40, 40)\n",
    "for j in range(len(arrayAlojamientos)):\n",
    "    print([arrayAlojamientos[i][0],arrayAlojamientos[i][1]])\n",
    "    marca = folium.Marker(location=[arrayAlojamientos[i][0],arrayAlojamientos[i][1]],\n",
    "                              icon = folium.features.CustomIcon(icon_url,icon_size))\n",
    "    mapaAlojamientos.add_children(marca)\n",
    "\n",
    "mapaAlojamientos.save('hoteles.html')"
   ]
  },
  {
   "cell_type": "code",
   "execution_count": null,
   "metadata": {
    "collapsed": false,
    "scrolled": true
   },
   "outputs": [],
   "source": [
    "HTML('<iframe src=hoteles.html width=100% height=350></iframe>')"
   ]
  },
  {
   "cell_type": "code",
   "execution_count": 153,
   "metadata": {
    "collapsed": false,
    "scrolled": true
   },
   "outputs": [],
   "source": [
    "icon_url = 'iconoTaxi.png'\n",
    "icon_size=(40, 40)\n",
    "for j in range(len(arrayParadas)):\n",
    "    marca = folium.Marker(location=[arrayParadas[i][0],arrayParadas[i][1]],\n",
    "                              icon = folium.features.CustomIcon(icon_url,icon_size))\n",
    "    mapaParadas.add_children(marca)\n",
    "\n",
    "mapaParadas.save('paradas.html')"
   ]
  },
  {
   "cell_type": "code",
   "execution_count": null,
   "metadata": {
    "collapsed": false,
    "scrolled": true
   },
   "outputs": [],
   "source": [
    "HTML('<iframe src=paradas.html width=100% height=350></iframe>')"
   ]
  }
 ],
 "metadata": {
  "anaconda-cloud": {},
  "kernelspec": {
   "display_name": "Python [conda root]",
   "language": "python",
   "name": "conda-root-py"
  },
  "language_info": {
   "codemirror_mode": {
    "name": "ipython",
    "version": 3
   },
   "file_extension": ".py",
   "mimetype": "text/x-python",
   "name": "python",
   "nbconvert_exporter": "python",
   "pygments_lexer": "ipython3",
   "version": "3.5.2"
  }
 },
 "nbformat": 4,
 "nbformat_minor": 1
}
