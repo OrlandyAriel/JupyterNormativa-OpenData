{
 "cells": [
  {
   "cell_type": "markdown",
   "metadata": {},
   "source": [
    "# Práctica final de Normativa y Regulación\n",
    "\n",
    "El desarrollo consiste en utilizar dos dataset o conjunto, para hacer uso de datos abiertos(Open Data) de datos del catalogo de datos [Open Data Canarias](http://www.opendatacanarias.es/) y [TENERIFEDATA](http://www.tenerifedata.es) en concreto el conjunto de datos [alojamientos turisticos de tenerife](http://www.opendatacanarias.es/datos/dataset/3f637e7d-d875-48c8-9337-6f16f767c655/resource/a6864f3e-acda-40fd-92a1-ae292e713399/download/alojamientos.csv) y el conjunto de datos [paradas de guaguas de tenerife](http://www.tenerifedata.es/dataset/transporte/resource/8e0664aa-e67d-47e0-adec-54b37fd21e38).\n",
    "*****\n",
    "\n",
    "**Características de estos conjuntos**\n",
    "*****\n",
    "* **Paradas de guaguas de Tenerife:**\n",
    "    * **Resumen**: Recursos georeferenciados relacionados con la movilidad: aparcamientos, paradas de guaguas, ...\n",
    "    * **Última actualización:** desconocido\n",
    "    * **Fecha de creación:** 2 Años\n",
    "    * **Formatos:** JSON,CSV\n",
    "    * **Licencia:** [Creative Commons CCZero](http://opendefinition.org/licenses/cc-zero/)\n",
    "    * **Autor:** desconocido\n",
    "    * **Mantenedor:** desconocido\n",
    "    * **Versión:** desconocido\n",
    "    * ** Cobertura Geográfica:** Tenerife\n",
    "    * **Idioma:** español\n",
    "    *********\n",
    "* **Alojamientos turísticos:**\n",
    "    * **Resumen:** Contiene toda la información acerca de los alojamientos registrados por Turismo de Tenerife. La información que aporta este dataset es recogida desde el punto de vista de interés para el turista por lo que puede haber algún que no esté correcto. Los recursos se encuentran en los formatos: XML, JSON, CSV.<br>\n",
    "    **NOTA:** Los ficheros en RDF se han realizado en colaboración con el grupo TARO de investigación de la Universidad de La Laguna.\n",
    "    * **Última actualización:** Julio 3, 2015\n",
    "    * ** Fecha de creación:** Junio 18,2014\n",
    "    * **Formatos:** CSV, JSON, XML, RDF\n",
    "    * **Licencia:** [Open Data Commons Attribution License](http://opendefinition.org/licenses/odc-by/)\n",
    "    * **Autor:** SPET, Turismo de Tenerife S.A\n",
    "    * **Mantenedor:** SPET, Turismo de Tenerife S.A\n",
    "    * **Versión:** 1.1\n",
    "    * ** Cobertura Geográfica:** Tenerife\n",
    "    * **Idioma:** español  \n",
    "    "
   ]
  },
  {
   "cell_type": "markdown",
   "metadata": {},
   "source": [
    "## Aplicación\n",
    "* ** Autor:** [Orlandy Ariel Sánchez A.](https://github.com/alu0100773408)\n",
    "* ** Asignatura:** Normativa y Regulación.\n",
    "* ** Lenguaje: ** Python\n",
    "* **Licencia:** [Creative Commons Reconocimiento 4.0 Internacional](https://creativecommons.org/licenses/by/4.0/)\n",
    "\n",
    "Para el desarrollo de la aplicación se hará uso de datos abiertos (Open Data) utilizando la herramienta [Jupyter Notebook](http://jupyter.org/).\n",
    "Haciendo uso de los siguientes lenguajes y librerias.\n",
    "* Para el texto se utilizará [Markdown](https://es.wikipedia.org/wiki/Markdown)\n",
    "* Para el código [Python](https://es.wikipedia.org/wiki/Python)\n",
    "* Se utilizarán las librerías:\n",
    "    * [IPython](https://ipython.org/)\n",
    "    * [gpxpy](https://pypi.python.org/pypi/gpxpy/0.7.0)\n",
    "    * [Pandas](http://pandas.pydata.org/)\n",
    "    * [Folium](https://folium.readthedocs.io/en/latest/)\n",
    "    \n",
    "**NOTA: TENER EN CUENTA DE QUE LAS LIBRERÍAS TIENEN QUE ESTAR INSTALADAS EN LA EN LA MÁQUINA PARA PODER EJECUTARLAS** "
   ]
  },
  {
   "cell_type": "markdown",
   "metadata": {},
   "source": [
    "### Definición de la aplicación\n",
    "Se pretende leer de dos ficheros; uno contiene la ubicación de las paradas de guagua de todo Tenerife y el otro contiene la ubicación de los alojamientos turísticos de Tenerife. Luego de leer estos datos se procesarán y se calculará las paradas de guaguas que tienen más cerca un alojamiento turístico y se macará en el mapa."
   ]
  },
  {
   "cell_type": "markdown",
   "metadata": {},
   "source": [
    "### Paradas de guaguas de Tenerife"
   ]
  },
  {
   "cell_type": "markdown",
   "metadata": {},
   "source": [
    "Para poder hacer uso de las librerías mencionadas antes se deben importar, esto se hace mediante la palabra reservada _**import**_"
   ]
  },
  {
   "cell_type": "code",
   "execution_count": 1,
   "metadata": {
    "collapsed": true,
    "scrolled": true
   },
   "outputs": [],
   "source": [
    "from IPython.display import HTML\n",
    "import gpxpy.geo\n",
    "import pandas as pd\n",
    "import folium"
   ]
  },
  {
   "cell_type": "markdown",
   "metadata": {},
   "source": [
    "El contenido de los ficheros, en este caso [**csv**](https://es.wikipedia.org/wiki/CSV), se guardará en la variable **datosParadas** y **datosAlojamientos** para leerlo se hace con la librería pandas. Si se necesita leer de un fichero que esté alojado en un servidor también se puede de la misma manera, solo que sustituyendo la ruta relativa del fichero por la url donde esté almacenado en el servidor.\n",
    "\n",
    "**NOTA:** en comentarios está como se haría si se lee desde una url."
   ]
  },
  {
   "cell_type": "code",
   "execution_count": 2,
   "metadata": {
    "collapsed": false,
    "scrolled": true
   },
   "outputs": [],
   "source": [
    "#Carga de datos paradas\n",
    "#datosParadas = pd.read_csv('http://www.opendatacanarias.es/datos/dataset/3f637e7d-d875-48c8-9337-6f16f767c655/resource/a6864f3e-acda-40fd-92a1-ae292e713399/download/alojamientos.csv')\n",
    "datosParadas = pd.read_csv('paradas.csv')\n",
    "\n",
    "#Carga de datos alojamietnos.\n",
    "#datosAlojamientos = pd.read_csv('http://www.tenerifedata.com/dataset/54c130a0-935a-4887-a963-35670f9091ec/resource/8e0664aa-e67d-47e0-adec-54b37fd21e38/download/paradas.csv')\n",
    "datosAlojamientos = pd.read_csv('alojamientos.csv')"
   ]
  },
  {
   "cell_type": "markdown",
   "metadata": {},
   "source": [
    "Para poder representar mapas utilizaremos la librería folium, representaremos 3 mapas:\n",
    "1. Mapa en el que se guardarán la ubucación de los alojamientos con paradas cercanas, se guardará en la variable **mapaDistancias**.\n",
    "2. Mapa en el que se guardarán la ubicación los alojamientos de Tenerife, se guardará en la variable **mapaAlojamientos**.\n",
    "3. Mapa en el que se guardarán la ubicación de las paradas de guaguas de Tenerife, se guardará en la variable **mapaDistancias**.\n",
    "\n",
    "La variable _location_, sitúa el mapa en la Isla de Santa Cruz de Tenerife"
   ]
  },
  {
   "cell_type": "code",
   "execution_count": 3,
   "metadata": {
    "collapsed": true,
    "scrolled": true
   },
   "outputs": [],
   "source": [
    "localizacion=[28.2915637, -16.6291304]\n",
    "mapaParadas = folium.Map(localizacion, tiles='Stamen Terrain', zoom_start=9)\n",
    "mapaAlojamientos = folium.Map(localizacion, tiles='Stamen Terrain', zoom_start=9)\n",
    "mapaDistancias = folium.Map(localizacion, tiles='Stamen Terrain', zoom_start=9)"
   ]
  },
  {
   "cell_type": "markdown",
   "metadata": {},
   "source": [
    "Necesitamos utilizar datos de tipo float, como no podemos asegurar que los datos del fichero csv están en correcto formato debemos comprobar que son float, para ello se utiliza la función isfloat, esta recibe una variable por parámetro. Si el valor de la variable es de tipo float entonces retorna _true_, sino devuelve _false_."
   ]
  },
  {
   "cell_type": "code",
   "execution_count": 4,
   "metadata": {
    "collapsed": true,
    "scrolled": true
   },
   "outputs": [],
   "source": [
    "#Verificación que los datos sean de tipo float\n",
    "def isfloat(value):\n",
    "      try:\n",
    "        float(value)\n",
    "        return True\n",
    "      except ValueError:\n",
    "        return False"
   ]
  },
  {
   "cell_type": "markdown",
   "metadata": {},
   "source": [
    "** Método para calcular la distancia entre dos puntos, haciendo uso de la librería gpxpy.geo que hace uso de la [Fórmula del haversine](https://es.wikipedia.org/wiki/F%C3%B3rmula_del_haversine). Este método devuelve la distancia en métros, y para no cargar el mapa se decidio para las paradas que esten a menos de 100 metros de los alojamientos.**"
   ]
  },
  {
   "cell_type": "code",
   "execution_count": 5,
   "metadata": {
    "collapsed": false,
    "scrolled": true
   },
   "outputs": [],
   "source": [
    "arrayCoordenadasAlojamientos = []\n",
    "arrayCoordenadasParadas = []\n",
    "\n",
    "def distancia(lat1, lng1,nom1, lat2, lng2,nom2):\n",
    "    dist = gpxpy.geo.haversine_distance(lat1, lng1, lat2, lng2)\n",
    "    if(dist < 100): # menor de 100 metros\n",
    "        arrayCoordenadasParadas.append([lat1,lng1,nom1])\n",
    "        arrayCoordenadasAlojamientos.append([lat2,lng2,nom2])"
   ]
  },
  {
   "cell_type": "markdown",
   "metadata": {},
   "source": [
    "Para poder calcular las distancias, primero procesamos la información del fichero de alojamientos, quedándonos con lo que nos interesa, la ubicación (en coordenadas) y el nombre para posteriormente utilizarlo a la hora de representarlo en el mapa."
   ]
  },
  {
   "cell_type": "code",
   "execution_count": 6,
   "metadata": {
    "collapsed": false,
    "scrolled": true
   },
   "outputs": [],
   "source": [
    "#extracción de los datos de las coordenadas\n",
    "arrayAloj = []\n",
    "for eq in datosAlojamientos.iterrows():\n",
    "        coordenadas = eq[1]['ows_Georeferencia']\n",
    "        if(not isfloat(coordenadas)):\n",
    "            if(not coordenadas == \"\"):\n",
    "                line = coordenadas.strip(\"(\").strip(\")\").strip(\" \")#Quitamos los \"( )\" y los espacios en blanco de las coordenadas\n",
    "                line = line.replace(\" \", \"\").split(\",\")#separamos las coordenadas mediante una \",\"\n",
    "                nombre = eq[1]['ows_LinkTitle']\n",
    "                line.append(nombre)#se le añade el nombre para tenerlo todo en un mismo array.\n",
    "                arrayAloj.append(line)\n",
    "arrayAlojamientos = []\n",
    "for infoAloj in arrayAloj:\n",
    "    x = float(infoAloj[0])\n",
    "    y = float(infoAloj[1])\n",
    "    arrayAlojamientos.append([x,y,infoAloj[2]])"
   ]
  },
  {
   "cell_type": "markdown",
   "metadata": {},
   "source": [
    "Luego realizamos el procedimiento anterior pero ahora con la ubicación de las paradas de guagua."
   ]
  },
  {
   "cell_type": "code",
   "execution_count": 7,
   "metadata": {
    "collapsed": false,
    "scrolled": true
   },
   "outputs": [],
   "source": [
    "arrayParadas = []\n",
    "for eq in datosParadas.iterrows():\n",
    "    if(isfloat(eq[1][1])):\n",
    "        x= float(eq[1][1])\n",
    "    if(isfloat(eq[1][0])):\n",
    "        y=float(eq[1][0])\n",
    "    arrayParadas.append([x,y,eq[1][3]])"
   ]
  },
  {
   "cell_type": "markdown",
   "metadata": {},
   "source": [
    "Una vez tenemos los datos procesados podemos calcular la distancia entre las ubicaciones, es decir, mediante dos bucles for se recorrerán cada una de las paradas de guaguas y se verá cual/es alojamiento/os están cerca. Aquí se llama a la función distancia, definida un poco más arriba."
   ]
  },
  {
   "cell_type": "code",
   "execution_count": 8,
   "metadata": {
    "collapsed": false,
    "scrolled": true
   },
   "outputs": [],
   "source": [
    "for i in range(len(arrayParadas)):\n",
    "    for j in range(len(arrayAlojamientos)):\n",
    "        distancia(arrayParadas[i][0],arrayParadas[i][1],arrayParadas[i][2],arrayAlojamientos[j][0],arrayAlojamientos[j][1],arrayAlojamientos[j][2])"
   ]
  },
  {
   "cell_type": "markdown",
   "metadata": {},
   "source": [
    "Cuando ya tenemos las ubicaciones cercanas calculadas, pasamos a mostrarlas en el mapa. Aquí hacemos uso de la librería (importada previamente) folium. Se añaden marcas en el mapa y se guardan en el fichero _**HTML**_ llamado _**distancia.html**_ para poderlo mostrar más adelante."
   ]
  },
  {
   "cell_type": "code",
   "execution_count": 9,
   "metadata": {
    "collapsed": false,
    "scrolled": true
   },
   "outputs": [],
   "source": [
    "icon_url_alojamiento = 'iconoAlojamiento.png'\n",
    "icon_url_guagua = 'iconoGuagua.png'\n",
    "icon_size=(40, 40)\n",
    "for i in range(len(arrayCoordenadasParadas)):\n",
    "    marker1 = folium.Marker(location=[arrayCoordenadasParadas[i][0],arrayCoordenadasParadas[i][1]],\n",
    "                            popup = arrayCoordenadasParadas[i][2],\n",
    "                            icon = folium.features.CustomIcon(icon_url_guagua,icon_size))\n",
    "    marker2 = folium.Marker(location=[arrayCoordenadasAlojamientos[i][0],arrayCoordenadasAlojamientos[i][1]],\n",
    "                            popup = arrayCoordenadasAlojamientos[i][2],\n",
    "                            icon = folium.features.CustomIcon(icon_url_alojamiento,icon_size))\n",
    "    mapaDistancias.add_children(marker1)\n",
    "    mapaDistancias.add_children(marker2)\n",
    "    \n",
    "mapaDistancias.save('mapaDeDistancia.html')"
   ]
  },
  {
   "cell_type": "markdown",
   "metadata": {},
   "source": [
    "Para poder ver el resultado de lo hecho anteriormente pasaremos a mostrar el mapa con los datos obtenidos."
   ]
  },
  {
   "cell_type": "markdown",
   "metadata": {},
   "source": [
    "**Leyenda: En los mapas nos encontraremos con dos tipos de iconos:**\n",
    "\n",
    "<img src=\"./iconLeyenda/iconoAlojamiento.png\"align=\"left\"> Indica que en dicha ubicación se encuentra un alojamiento turistico."
   ]
  },
  {
   "cell_type": "markdown",
   "metadata": {},
   "source": [
    "<img src=\"./iconLeyenda/iconoGuagua.png\"align=\"left\"> Indica que en dicha ubicación se encuentra una parada de guagua"
   ]
  },
  {
   "cell_type": "code",
   "execution_count": 10,
   "metadata": {
    "collapsed": false,
    "scrolled": true
   },
   "outputs": [
    {
     "data": {
      "text/html": [
       "<iframe src=mapaDeDistancia.html width=100% height=350></iframe>"
      ],
      "text/plain": [
       "<IPython.core.display.HTML object>"
      ]
     },
     "execution_count": 10,
     "metadata": {},
     "output_type": "execute_result"
    }
   ],
   "source": [
    "HTML('<iframe src=mapaDeDistancia.html width=100% height=350></iframe>')"
   ]
  },
  {
   "cell_type": "markdown",
   "metadata": {},
   "source": [
    "## Referencia visual de donde están las paradas y los alojamientos."
   ]
  },
  {
   "cell_type": "markdown",
   "metadata": {},
   "source": [
    "Dado que son muchas paradas y muchos alojamientos, mostrarlos juntos puede ser confuso y costoso de procesar, se ha decidido mostrar por separado los distintos alojamientos y las distintas paradas en el mapa. De manera que se pueda apreciar mejor la diferencia entre los datos cuando no se tiene en cuenta la distancia y cuando se tiene en cuenta.\n",
    "\n",
    "En el primer caso se lee las coordenadas de los alojamientos, extraídos anteriormente del fichero, se guardan en un fichero _**HTML**_ llamado **_alojamientos.html_** para mostrarlo posteriormente."
   ]
  },
  {
   "cell_type": "code",
   "execution_count": 11,
   "metadata": {
    "collapsed": false,
    "scrolled": true
   },
   "outputs": [],
   "source": [
    "for x in range(len(arrayAlojamientos)):\n",
    "    marca = folium.Marker(location=[arrayAlojamientos[x][0],arrayAlojamientos[x][1]],\n",
    "                          popup = arrayAlojamientos[x][2],\n",
    "                          icon = folium.features.CustomIcon(icon_url_alojamiento,icon_size))\n",
    "    mapaAlojamientos.add_children(marca)\n",
    "\n",
    "mapaAlojamientos.save('mapaDeAlojamientos.html')"
   ]
  },
  {
   "cell_type": "code",
   "execution_count": 12,
   "metadata": {
    "collapsed": false,
    "scrolled": true
   },
   "outputs": [
    {
     "data": {
      "text/html": [
       "<iframe src=mapaDeAlojamientos.html width=100% height=350></iframe>"
      ],
      "text/plain": [
       "<IPython.core.display.HTML object>"
      ]
     },
     "execution_count": 12,
     "metadata": {},
     "output_type": "execute_result"
    }
   ],
   "source": [
    "HTML('<iframe src=mapaDeAlojamientos.html width=100% height=350></iframe>')"
   ]
  },
  {
   "cell_type": "markdown",
   "metadata": {},
   "source": [
    "En este caso se lee las coordenadas de las paradas de guagua, extraídos anteriormente del fichero de paradas, se guardan en un fichero _**HTML**_ llamado **_paradas.html_** para mostrarlo posteriormente."
   ]
  },
  {
   "cell_type": "code",
   "execution_count": 13,
   "metadata": {
    "collapsed": false,
    "scrolled": true
   },
   "outputs": [],
   "source": [
    "for j in range(len(arrayParadas)):\n",
    "    marca = folium.Marker(location=[arrayParadas[j][0],arrayParadas[j][1]],\n",
    "                          popup = arrayParadas[j][2],\n",
    "                          icon = folium.features.CustomIcon(icon_url_guagua,icon_size))\n",
    "    mapaParadas.add_children(marca)\n",
    "\n",
    "mapaParadas.save('mapaDeParadas.html')"
   ]
  },
  {
   "cell_type": "code",
   "execution_count": 14,
   "metadata": {
    "collapsed": false,
    "scrolled": true
   },
   "outputs": [
    {
     "data": {
      "text/html": [
       "<iframe src=mapaDeParadas.html width=100% height=350></iframe>"
      ],
      "text/plain": [
       "<IPython.core.display.HTML object>"
      ]
     },
     "execution_count": 14,
     "metadata": {},
     "output_type": "execute_result"
    }
   ],
   "source": [
    "HTML('<iframe src=mapaDeParadas.html width=100% height=350></iframe>')"
   ]
  }
 ],
 "metadata": {
  "anaconda-cloud": {},
  "kernelspec": {
   "display_name": "Python [conda root]",
   "language": "python",
   "name": "conda-root-py"
  },
  "language_info": {
   "codemirror_mode": {
    "name": "ipython",
    "version": 3
   },
   "file_extension": ".py",
   "mimetype": "text/x-python",
   "name": "python",
   "nbconvert_exporter": "python",
   "pygments_lexer": "ipython3",
   "version": "3.5.2"
  },
  "nbpresent": {
   "slides": {},
   "themes": {
    "default": "b4a13d23-5e37-458e-a895-8dfdcef2786e",
    "theme": {
     "b4a13d23-5e37-458e-a895-8dfdcef2786e": {
      "id": "b4a13d23-5e37-458e-a895-8dfdcef2786e",
      "palette": {
       "19cc588f-0593-49c9-9f4b-e4d7cc113b1c": {
        "id": "19cc588f-0593-49c9-9f4b-e4d7cc113b1c",
        "rgb": [
         252,
         252,
         252
        ]
       },
       "31af15d2-7e15-44c5-ab5e-e04b16a89eff": {
        "id": "31af15d2-7e15-44c5-ab5e-e04b16a89eff",
        "rgb": [
         68,
         68,
         68
        ]
       },
       "50f92c45-a630-455b-aec3-788680ec7410": {
        "id": "50f92c45-a630-455b-aec3-788680ec7410",
        "rgb": [
         155,
         177,
         192
        ]
       },
       "c5cc3653-2ee1-402a-aba2-7caae1da4f6c": {
        "id": "c5cc3653-2ee1-402a-aba2-7caae1da4f6c",
        "rgb": [
         43,
         126,
         184
        ]
       },
       "efa7f048-9acb-414c-8b04-a26811511a21": {
        "id": "efa7f048-9acb-414c-8b04-a26811511a21",
        "rgb": [
         25.118061674008803,
         73.60176211453744,
         107.4819383259912
        ]
       }
      },
      "rules": {
       "blockquote": {
        "color": "50f92c45-a630-455b-aec3-788680ec7410"
       },
       "code": {
        "font-family": "Anonymous Pro"
       },
       "h1": {
        "color": "c5cc3653-2ee1-402a-aba2-7caae1da4f6c",
        "font-family": "Lato",
        "font-size": 8
       },
       "h2": {
        "color": "c5cc3653-2ee1-402a-aba2-7caae1da4f6c",
        "font-family": "Lato",
        "font-size": 6
       },
       "h3": {
        "color": "50f92c45-a630-455b-aec3-788680ec7410",
        "font-family": "Lato",
        "font-size": 5.5
       },
       "h4": {
        "color": "c5cc3653-2ee1-402a-aba2-7caae1da4f6c",
        "font-family": "Lato",
        "font-size": 5
       },
       "h5": {
        "font-family": "Lato"
       },
       "h6": {
        "font-family": "Lato"
       },
       "h7": {
        "font-family": "Lato"
       },
       "pre": {
        "font-family": "Anonymous Pro",
        "font-size": 4
       }
      },
      "text-base": {
       "font-family": "Merriweather",
       "font-size": 4
      }
     }
    }
   }
  }
 },
 "nbformat": 4,
 "nbformat_minor": 1
}
